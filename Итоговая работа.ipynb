{
 "nbformat": 4,
 "nbformat_minor": 0,
 "metadata": {
  "colab": {
   "provenance": []
  },
  "kernelspec": {
   "name": "python3",
   "display_name": "Python 3 (ipykernel)",
   "language": "python"
  },
  "language_info": {
   "name": "python"
  }
 },
 "cells": [
  {
   "metadata": {
    "ExecuteTime": {
     "end_time": "2024-11-19T17:47:36.591735Z",
     "start_time": "2024-11-19T17:47:36.587336Z"
    }
   },
   "cell_type": "code",
   "source": [
    "import numpy as np\n",
    "import pandas as pd"
   ],
   "outputs": [],
   "execution_count": 4
  },
  {
   "cell_type": "markdown",
   "source": [
    "# Задание 1"
   ],
   "metadata": {
    "id": "DQQFfNTLJ20S"
   }
  },
  {
   "cell_type": "code",
   "metadata": {
    "id": "XqAzbM6WJyE2",
    "ExecuteTime": {
     "end_time": "2024-11-19T17:47:41.967919Z",
     "start_time": "2024-11-19T17:47:41.956823Z"
    }
   },
   "source": [
    "def multiplication_order(A, B, C):\n",
    "    # Получаем размеры матриц, учитывая условие, гарантирующее, что матрицы перемножаемы\n",
    "    a, b = A.shape\n",
    "    b, c = B.shape\n",
    "    c, d = C.shape\n",
    "    \n",
    "    # результатом умножения матриц А и В будет матрица размера (а * с), каждый элемент которой получается суммой из b произведений \n",
    "    cost_a_b = b * (a * c)\n",
    "    # считаем количество умножений для второго действия\n",
    "    cost_ab_c = c * (a * d)\n",
    "    # по аналогии просчитываем действия для второго варианта\n",
    "    cost_b_c = c * (b * d)\n",
    "    cost_a_bc = b * (a * d)\n",
    "\n",
    "    # сравниваем два варианта\n",
    "    if cost_a_b + cost_ab_c <= cost_b_c + cost_a_bc:\n",
    "        return \"(AxB)xC\"\n",
    "    else:\n",
    "        return \"Ax(BxC)\"\n",
    "\n",
    "# Проверим на тестовых данных    \n",
    "A = np.array([[1,2]])\n",
    "B = np.array([[2],[1]])\n",
    "C = np.array([[5]])\n",
    "    \n",
    "multiplication_order(A, B, C)\n",
    "#'(AxB)xC'"
   ],
   "outputs": [
    {
     "data": {
      "text/plain": [
       "'(AxB)xC'"
      ]
     },
     "execution_count": 5,
     "metadata": {},
     "output_type": "execute_result"
    }
   ],
   "execution_count": 5
  },
  {
   "cell_type": "markdown",
   "source": [
    "# Задание 2\n"
   ],
   "metadata": {
    "id": "vQvUEt_KKShX"
   }
  },
  {
   "cell_type": "code",
   "source": [
    "#ваш код\n",
    "def best_worst(X, Y):\n",
    "    # Вычисляем коэффициенты корреляции между признаками X и ценами Y\n",
    "    # Берем только последнюю строку (там корреляция с целевым вектором) и опускаем последний элемент, так как он будет равен 1\n",
    "    corr = np.corrcoef(X.T, Y.T)[-1][:-1]\n",
    "\n",
    "    # Находим индексы максимального и минимального значений корреляций по модулю\n",
    "    max_corr_idx = np.argmax(np.abs(corr))\n",
    "    min_corr_idx = np.argmin(np.abs(corr))\n",
    "\n",
    "    return max_corr_idx, min_corr_idx\n",
    "\n",
    "# Проверим на тестовых данных\n",
    "data = np.array([\n",
    "    [3,51,3,0,1,0,2200],\n",
    "    [1,30,1,0,1,0,1600],\n",
    "    [2,45,2,0,1,0,1900],\n",
    "    [3,55,1,0,1,0,2000],\n",
    "    [1,45,3,1,0,0,4500],\n",
    "    [3,100,3,1,0,0,7000],\n",
    "    [2,71,2,1,0,0,5000],\n",
    "    [1,31,2,0,0,1,1700],\n",
    "    [3,53,5,0,0,1,2100],\n",
    "    [1,33,3,0,0,1,1500],\n",
    "    [2,43,5,0,0,1,2000],\n",
    "])\n",
    "df = pd.DataFrame(data=data, columns=['Комнаты', 'Площадь', 'Этаж', 'Центр?', 'Спальный1?', 'Спальный 2?', 'Цена'])\n",
    "\n",
    "X = df[['Комнаты', 'Площадь', 'Этаж', 'Центр?', 'Спальный1?', 'Спальный 2?']]\n",
    "y = df[['Цена']]\n",
    "\n",
    "best_worst(X,y)\n",
    "#(3, 2)\n"
   ],
   "metadata": {
    "id": "TMJq9ob2KYBY",
    "ExecuteTime": {
     "end_time": "2024-11-19T19:23:14.144365Z",
     "start_time": "2024-11-19T19:23:14.133288Z"
    }
   },
   "outputs": [
    {
     "data": {
      "text/plain": [
       "(3, 2)"
      ]
     },
     "execution_count": 30,
     "metadata": {},
     "output_type": "execute_result"
    }
   ],
   "execution_count": 30
  },
  {
   "cell_type": "markdown",
   "source": "# Задание 3\n",
   "metadata": {
    "id": "hindpJMCKhB8"
   }
  },
  {
   "cell_type": "code",
   "source": [
    "#ваш код\n",
    "def corr_rank(X):\n",
    "    #строим матрицу корреляций\n",
    "    corr = np.corrcoef(X)\n",
    "    # возвращаем ранг матрицы корреляций\n",
    "    return np.linalg.matrix_rank(corr)\n",
    "\n",
    "corr_rank(X)\n",
    "#5"
   ],
   "metadata": {
    "id": "-YLajcsEKkuQ",
    "ExecuteTime": {
     "end_time": "2024-11-19T19:26:36.322731Z",
     "start_time": "2024-11-19T19:26:36.302292Z"
    }
   },
   "outputs": [
    {
     "data": {
      "text/plain": [
       "5"
      ]
     },
     "execution_count": 31,
     "metadata": {},
     "output_type": "execute_result"
    }
   ],
   "execution_count": 31
  },
  {
   "cell_type": "markdown",
   "source": [
    "# Задание 4"
   ],
   "metadata": {
    "id": "tKweU9DCKk-f"
   }
  },
  {
   "cell_type": "code",
   "source": [
    "#ваш код\n",
    "def inverse_matrix(A):\n",
    "    if np.abs(np.linalg.det(A)) < 0.001:\n",
    "        return None\n",
    "    return np.linalg.inv(A)\n",
    "\n",
    "A = np.array([[1, 2], [2, 1]])\n",
    "\n",
    "print(inverse_matrix(A))\n",
    "#array([[-0.33333333, 0.66666667],[ 0.66666667, -0.33333333]])"
   ],
   "metadata": {
    "id": "pi2fjbkjKmzi",
    "ExecuteTime": {
     "end_time": "2024-11-19T19:31:19.179970Z",
     "start_time": "2024-11-19T19:31:19.174005Z"
    }
   },
   "outputs": [
    {
     "name": "stdout",
     "output_type": "stream",
     "text": [
      "[[-0.33333333  0.66666667]\n",
      " [ 0.66666667 -0.33333333]]\n"
     ]
    }
   ],
   "execution_count": 33
  },
  {
   "cell_type": "markdown",
   "source": [
    "# Задание 5"
   ],
   "metadata": {
    "id": "pnIqMUVsKnTq"
   }
  },
  {
   "cell_type": "code",
   "source": [
    "#ваш код\n",
    "def fit_model(X, y):\n",
    "    return (inverse_matrix(X.T@X)@X.T@y).to_numpy()\n",
    "\n",
    "print(fit_model(X, y))"
   ],
   "metadata": {
    "id": "g34wFIBuKpmL",
    "ExecuteTime": {
     "end_time": "2024-11-19T20:27:17.640315Z",
     "start_time": "2024-11-19T20:27:17.633209Z"
    }
   },
   "outputs": [
    {
     "name": "stdout",
     "output_type": "stream",
     "text": [
      "[[-574.12295766]\n",
      " [  65.33255763]\n",
      " [ 141.80223878]\n",
      " [1566.16246224]\n",
      " [  12.32450391]\n",
      " [-315.34552489]]\n"
     ]
    }
   ],
   "execution_count": 37
  }
 ]
}
